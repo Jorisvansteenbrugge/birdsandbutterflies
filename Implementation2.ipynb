{
 "cells": [
  {
   "cell_type": "markdown",
   "metadata": {},
   "source": [
    "# Main code"
   ]
  },
  {
   "cell_type": "code",
   "execution_count": 18,
   "metadata": {
    "collapsed": false,
    "scrolled": true
   },
   "outputs": [
    {
     "name": "stdout",
     "output_type": "stream",
     "text": [
      "[u'Falco subbuteo', u'Cuculus canorus']\n",
      "[array([ 90.076225  ,   1.36562839])]\n"
     ]
    }
   ],
   "source": [
    "from classes import Species, Observation\n",
    "sc.addPyFile(\"classes.py\")\n",
    "\n",
    "\n",
    "        \n",
    "        \n",
    "if __name__ == \"__main__\":\n",
    "    global species\n",
    "    data = sc.textFile(\"/home/WUR/steen176/Downloads/test.dat\")\n",
    "    #data = sc.textFile('hdfs://scomp1334:9000/user/steen176/csv/butterflies.csv')\n",
    "\n",
    "    corrected = data.map(lambda line: correctLine(line))\n",
    "    species = extractSpecies(corrected)\n",
    "    \n",
    "    \n",
    "    #rdd.map did not work here\n",
    "    map(getObservation, corrected.toLocalIterator())\n",
    "    \n",
    "    to_cluster = sc.parallelize(species.keys())\n",
    "    \n",
    "    \n",
    "    #test for 1 organism\n",
    "    cl =  cluster(to_cluster.take(1)[0])\n",
    "\n",
    "    parallel_centers = sc.parallelize(cl.clusterCenters)\n",
    "    print(parallel_centers.take(1))\n",
    "        \n",
    "    "
   ]
  },
  {
   "cell_type": "markdown",
   "metadata": {},
   "source": [
    "# Utility"
   ]
  },
  {
   "cell_type": "code",
   "execution_count": 4,
   "metadata": {
    "collapsed": false
   },
   "outputs": [
    {
     "data": {
      "text/plain": [
       "'\\nCurculus canorus: species\\n137: species code\\n1: code species group\\nTer plaatse: activity\\nKoekoeken: family\\n1: how many\\n2014-05-16: date of observation\\n21:34: time of observation\\n6.07659218423424,0.0523654652736141: location\\n'"
      ]
     },
     "execution_count": 4,
     "metadata": {},
     "output_type": "execute_result"
    }
   ],
   "source": [
    "def getSpecies(line):\n",
    "    line = line.split(',')\n",
    "    return line[0]\n",
    "\n",
    "def correctLine(line):\n",
    "    line = line.split(',')\n",
    "    if len(line) != 10:\n",
    "        return ','.join(line[0:4] + [\" \".join(line[4:6])]+ line[6:])\n",
    "    else:\n",
    "        return ','.join(line)\n",
    "\n",
    "def getObservation(line):\n",
    "    line = line.split(',')\n",
    "    specie = line[0]\n",
    "    for i in xrange(int(line[5])):\n",
    "        longti = line[8]\n",
    "        lati = line[9]\n",
    "        obs = Observation(longti,lati)\n",
    "        species[specie].addObservation(obs)\n",
    "    \n",
    "    \n",
    "def createSpecieObjects(species_list):\n",
    "    species_objects = {}\n",
    "    for specie in species_list:\n",
    "        obj = Species(specie)\n",
    "        species_objects[specie] = obj\n",
    "    return species_objects\n",
    "\n",
    "\n",
    "def extractSpecies(rdd):\n",
    "    species = rdd.map(getSpecies)\n",
    "    species_list  = list(set([x for x in species.toLocalIterator()]))\n",
    "    return createSpecieObjects(species_list)\n",
    "\"\"\"\n",
    "Curculus canorus: species\n",
    "137: species code\n",
    "1: code species group\n",
    "Ter plaatse: activity\n",
    "Koekoeken: family\n",
    "1: how many\n",
    "2014-05-16: date of observation\n",
    "21:34: time of observation\n",
    "6.07659218423424,0.0523654652736141: location\n",
    "\"\"\""
   ]
  },
  {
   "cell_type": "markdown",
   "metadata": {},
   "source": [
    "# Clustering"
   ]
  },
  {
   "cell_type": "code",
   "execution_count": 2,
   "metadata": {
    "collapsed": true
   },
   "outputs": [],
   "source": [
    "from pyspark.mllib.clustering import KMeans, KMeansModel\n",
    "from pyspark.mllib.linalg import SparseVector\n",
    "from math import sqrt\n",
    "NUM_CLUSTER = 4\n",
    "\n",
    "def kmeans(sparse_vectors):\n",
    "    #sparsevectors should be a rdd containing sparsevectors\n",
    "    return KMeans.train(sparse_vectors, NUM_CLUSTER, maxIterations=20, runs=100, initializationMode=\"random\")\n",
    "\n",
    "def cluster(specie):\n",
    "    specie = species[specie]\n",
    "    vectors = specie.getVectorRDD()\n",
    "    return kmeans(sc.parallelize(vectors))\n",
    "\n",
    "\n",
    "    \n",
    "def error(point):\n",
    "    center = clusters.centers[clusters.predict(point)]\n",
    "    denseCenter = DenseVector(numpy.ndarray.tolist(center))\n",
    "    return sqrt(sum([x**2 for x in (DenseVector(point.toArray()) - denseCenter)]))\n",
    "\n",
    "    WSSSE = parsedData.map(lambda point: error(point)).reduce(lambda x, y: x + y)\n",
    "    print(WSSSE)"
   ]
  },
  {
   "cell_type": "markdown",
   "metadata": {},
   "source": [
    "# Comparing clusters"
   ]
  },
  {
   "cell_type": "code",
   "execution_count": null,
   "metadata": {
    "collapsed": true
   },
   "outputs": [],
   "source": [
    "def centerdiffs(centerA, centerB, DIFF=0.1):\n",
    "    longA = centerA[0]\n",
    "    longB = centerB[0]\n",
    "    lattA = centerA[1]\n",
    "    lattB = centerB[1]\n",
    "    \n",
    "    longDiff = numpy.subtract(longA, longB)\n",
    "    lattDiff = numpy.subtract(lattA, lattB)\n",
    "    \n",
    "    if longDiff < DIFF and lattDiff < DIFF:\n",
    "        return True\n",
    "    else:\n",
    "        return False"
   ]
  }
 ],
 "metadata": {
  "kernelspec": {
   "display_name": "Python 2",
   "language": "python",
   "name": "python2"
  },
  "language_info": {
   "codemirror_mode": {
    "name": "ipython",
    "version": 2
   },
   "file_extension": ".py",
   "mimetype": "text/x-python",
   "name": "python",
   "nbconvert_exporter": "python",
   "pygments_lexer": "ipython2",
   "version": "2.7.6"
  }
 },
 "nbformat": 4,
 "nbformat_minor": 1
}
